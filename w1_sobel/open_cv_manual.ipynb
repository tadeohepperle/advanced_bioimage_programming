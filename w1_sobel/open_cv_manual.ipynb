{
 "cells": [
  {
   "cell_type": "code",
   "execution_count": 30,
   "metadata": {},
   "outputs": [
    {
     "name": "stdout",
     "output_type": "stream",
     "text": [
      "total time: 1.2354412078857422\n"
     ]
    },
    {
     "data": {
      "text/plain": [
       "True"
      ]
     },
     "execution_count": 30,
     "metadata": {},
     "output_type": "execute_result"
    }
   ],
   "source": [
    "import time\n",
    "import cv2\n",
    "import numpy as np\n",
    "\n",
    "def convert_to_greyscale(img):\n",
    "    blue = img[:,:,0]\n",
    "    green = img[:,:,1]\n",
    "    red = img[:,:,2]\n",
    "    grey_channel = 0.2 * blue + 0.5 * green +  0.3 *red\n",
    "    return grey_channel\n",
    "\n",
    "sobel_kernel_x = np.array([[-1,0,1],[-2,0,2],[-1,0,1]])\n",
    "sobel_kernel_y = np.array([[-1,-2,-1],[0,0,0],[1,2,1]])\n",
    "\n",
    "def convolution(img,kernel_3x3):\n",
    "    w,h = img.shape\n",
    "    stacked_sub_images = np.zeros((w-2,h-2))\n",
    "    for i in [0,1,2]:\n",
    "        for j in [0,1,2]:\n",
    "            kv = kernel_3x3[i,j]\n",
    "            subimg = img[0+i:w-2+i,0+j:h-2+j] *kv\n",
    "            stacked_sub_images += subimg\n",
    "    new_img = np.zeros((w,h))\n",
    "    new_img[1:-1,1:-1] = stacked_sub_images\n",
    "    return new_img\n",
    "    \n",
    "\n",
    "img = cv2.imread(\"img/lizard.jpg\") # bgr\n",
    "grey_img = convert_to_greyscale(img)\n",
    "\n",
    "\n",
    "start = time.time()\n",
    "\n",
    "sobel_img_x = convolution(grey_img, sobel_kernel_x)\n",
    "sobel_img_y = convolution(grey_img, sobel_kernel_y)\n",
    "sobel_img = np.sqrt(np.multiply(sobel_img_y,sobel_img_y)  + np.multiply(sobel_img_x,sobel_img_x))\n",
    "\n",
    "end = time.time()\n",
    "print(f\"total time: {end - start}\")\n",
    "\n",
    "cv2.imwrite(\"img/lizard_sobel_python.jpg\",sobel_img)\n",
    "\n",
    "\n",
    "\n"
   ]
  }
 ],
 "metadata": {
  "kernelspec": {
   "display_name": "Python 3.9.12 ('base')",
   "language": "python",
   "name": "python3"
  },
  "language_info": {
   "codemirror_mode": {
    "name": "ipython",
    "version": 3
   },
   "file_extension": ".py",
   "mimetype": "text/x-python",
   "name": "python",
   "nbconvert_exporter": "python",
   "pygments_lexer": "ipython3",
   "version": "3.9.12"
  },
  "orig_nbformat": 4,
  "vscode": {
   "interpreter": {
    "hash": "780e02f01b3ae00d5e97f14df45fcdece40e9a09f09f224add9952588133a4cb"
   }
  }
 },
 "nbformat": 4,
 "nbformat_minor": 2
}
